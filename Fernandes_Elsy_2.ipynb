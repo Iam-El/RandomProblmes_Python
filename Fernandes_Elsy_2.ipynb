{
 "cells": [
  {
   "cell_type": "markdown",
   "metadata": {},
   "source": [
    "# _Question 1:_\n",
    "\n",
    "_(10 points) Write a program that rolls a 7 faced die 100 times and then tells you the number of 1s, 2s, 3s,..and 7s. It should also provide a graphical display of the frequencies. Sample runs are shown below:_\n",
    "\n",
    "# _STEPS_\n",
    "\n",
    "_1.For the range beween 0 to 100 program generates the random number beween 1 and 7 for every iteration of i._\n",
    "\n",
    "_2.Since we are generating the random numbers, each time you the program we will have different numbers for number of 1ns,2s,3s and so on_\n"
   ]
  },
  {
   "cell_type": "code",
   "execution_count": 7,
   "metadata": {},
   "outputs": [
    {
     "name": "stdout",
     "output_type": "stream",
     "text": [
      "Frequencies:\n",
      "Number of 1s: 10\n",
      "Number of 2s: 24\n",
      "Number of 3s: 12\n",
      "Number of 4s: 13\n",
      "Number of 5s: 12\n",
      "Number of 6s: 13\n",
      "Number of 7s: 16\n",
      "1 :**********\n",
      "2 :************************\n",
      "3 :************\n",
      "4 :*************\n",
      "5 :************\n",
      "6 :*************\n",
      "7 :****************\n"
     ]
    }
   ],
   "source": [
    "import random\n",
    "one=0   #Initialize the variable 1\n",
    "two=0  #Initialize the variable 2\n",
    "three=0 #Initialize the variable 3\n",
    "four=0 #Initialize the variable 4\n",
    "five=0 #Initialize the variable 5\n",
    "six=0 #Initialize the variable 6\n",
    "seven=0 #Initialize the variable 7\n",
    "print('Frequencies:')\n",
    "for i in range(0,100):            # Run for loop 100 times\n",
    "    roll=int(random.randint(1,7)) # generate random number beween 1 and 7\n",
    "    if roll==1:\n",
    "        one=one+1                 #if the randomy generated number is 1 ,increse the counter\n",
    "    if roll==2:\n",
    "        two=two+1                 #if the randomy generated number is 2 ,increse the counter\n",
    "    if roll==3:\n",
    "        three=three+1             #if the randomy generated number is 3 ,increse the counter\n",
    "    if roll==4:\n",
    "        four=four+1               #if the randomy generated number is 4 ,increse the counter\n",
    "    if roll==5:\n",
    "        five=five+1               #if the randomy generated number is 5 ,increse the counter\n",
    "    if roll==6:\n",
    "        six=six+1                 #if the randomy generated number is 6 ,increse the counter\n",
    "    if roll==7:\n",
    "        seven=seven+1            #if the randomy generated number is 7 ,increse the counter\n",
    "#print the result\n",
    "print('Number of 1s:',one)\n",
    "print('Number of 2s:',two)\n",
    "print('Number of 3s:',three)\n",
    "print('Number of 4s:',four)\n",
    "print('Number of 5s:',five)\n",
    "print('Number of 6s:',six)\n",
    "print('Number of 7s:',seven)\n",
    "#Display the result in graph\n",
    "print('1 :', end = '')\n",
    "print('*'*one)\n",
    "print('2 :', end = '')\n",
    "print('*'*two)\n",
    "print('3 :', end = '')\n",
    "print('*'*three)\n",
    "print('4 :', end = '')\n",
    "print('*'*four)\n",
    "print('5 :', end = '')\n",
    "print('*'*five)\n",
    "print('6 :', end = '')\n",
    "print('*'*six)\n",
    "print('7 :', end = '')\n",
    "print('*'*seven)   "
   ]
  },
  {
   "cell_type": "markdown",
   "metadata": {},
   "source": [
    "# _Question 2:_\n",
    "\n",
    "_(10 points) Write a program where the user and the program/computer play a number guessing game. The program should prompt the user for an integer (between 1 and 100, inclusive) then the program/computer has to guess what the user entered. Keep track of the number of iterations it takes for the computer to guess the number. Sample runs are shown below:_\n",
    "\n",
    "# _STEPS_\n",
    "\n",
    "_1.Enter a integer number beween 1 and 100 inclusive for guessing game.You enter below 1 and above 100 program handles it .and rerun the program_\n",
    "\n",
    "_2.If you enter string or float program handles it .Rerun the program_\n",
    "\n",
    "_3.Program generates a random number between 1 and 100 . compares the randomly generated number with the entered number . if it matches returns the count it took to guess and the entered number._\n"
   ]
  },
  {
   "cell_type": "code",
   "execution_count": 8,
   "metadata": {},
   "outputs": [
    {
     "name": "stdout",
     "output_type": "stream",
     "text": [
      "Enter number to be guessed:3\n",
      "You entered 3 , and it took the program 127 iterations to guess\n"
     ]
    }
   ],
   "source": [
    "import random\n",
    "count_val=0 #initialize the variable\n",
    "try:\n",
    "    a=input('Enter number to be guessed:')\n",
    "    num=int(a)   #typecast a entered number to an integer\n",
    "    if num<1:   #checks if the number is less than 1         \n",
    "        print('Entered number is less than 1')\n",
    "    if num>100:  #checks if the number is greater than 100\n",
    "        print('Entered Number is greater than 100 ')\n",
    "    count=0\n",
    "    while True:\n",
    "        guess_num=int(random.randint(1,100)) #generate random number between 1 and 100\n",
    "        count_val=count_val+1        #increment the count\n",
    "        if num==guess_num:         #compare the number\n",
    "            print('You entered ' + str(num) +' , and it took the program '+ str(count_val) +' iterations to guess')\n",
    "            break    \n",
    "except:\n",
    "    print('Entered Number is not an integer')"
   ]
  },
  {
   "cell_type": "markdown",
   "metadata": {},
   "source": [
    "# _Question 3_\n",
    "\n",
    "_(10 points) Write a function that accepts a line of text and a single letter as input (case insensitive) and returns the number of times the letter is the first character of a word_\n",
    "\n",
    "# _STEPS_\n",
    "\n",
    "_1. Enter any string .It converts the entire string to lowercase_\n",
    "\n",
    "_2. Enter single charater. If you enter more than 1 character program handles it and rerun the program_\n",
    "\n",
    "_3. If you enter numbers and space, program handles it and rerun the program.(professor asked us to handle only numbers and spaces not special characters)_\n",
    "\n",
    "_4. Function named checkAlphabet has been created which takes words , character and count=0 as input_\n",
    "\n",
    "_5. Function prits the count of character that starts with in the given string._\n",
    "\n"
   ]
  },
  {
   "cell_type": "code",
   "execution_count": 9,
   "metadata": {},
   "outputs": [
    {
     "name": "stdout",
     "output_type": "stream",
     "text": [
      "Enter your line of text:ffff\n",
      "Enter your letter to use:f\n",
      "Your letter f occurs as the first letter: 1 times\n"
     ]
    }
   ],
   "source": [
    "import re\n",
    "\n",
    "#Function to check given character is first letter of word. are return the number of times its first character of word \n",
    "def checkAlphabet(words,character,count):\n",
    "    for i in words:\n",
    "        if i.startswith(character):    #check if character is first letter of word\n",
    "            count=count+1              #increment the count\n",
    "    print('Your letter '+character+ ' occurs as the first letter: ' +str(count)+ ' times') #print the result\n",
    "    \n",
    "a=input('Enter your line of text:')\n",
    "lineTxt=str(a)\n",
    "lowercase=lineTxt.lower()  #convert entire string into lowercase\n",
    "words=lowercase.split()    #split the strings into words\n",
    "characte=input('Enter your letter to use:')\n",
    "character=characte.lower()  #convert the character entered to lower case\n",
    "count=0\n",
    "if len(character)>1:\n",
    "    print('Enter single letter or string please!!') #if length of character is greater than 1 prompts to enter single character\n",
    "else:\n",
    "    if re.findall(\"\\d\", character):   #regex to compare if character entered is a digit\n",
    "        print('Please Enter Only String')\n",
    "    elif re.findall(\"\\s\", character): #regex to compare if character entered is a space\n",
    "        print('Please Enter Only String. No Space is allowed')\n",
    "    else:\n",
    "        checkAlphabet(words,character,count)"
   ]
  },
  {
   "cell_type": "markdown",
   "metadata": {},
   "source": [
    "# _Question 4_\n",
    "_(10 points) A Pangram is a sentence that contains every letter in the English alphabet. For example “The quick brown fox jumps over the lazy dog” is a pangram. Write a Python program to check if a string given by the user is a pangram or not. In addition, if the sentence is not a pangram, your program should output the letters that were missing to make it a pangram. Sample runs are given below:_\n",
    "\n",
    "# _STEPS_\n",
    "\n",
    "_1. Enter any string. Program has a function ispangram checks if the entered string has all the alphabets._\n",
    "\n",
    "_2. If entered string has all the alphabets returns YES else returns NO and prints missing alphabets_\n"
   ]
  },
  {
   "cell_type": "code",
   "execution_count": 10,
   "metadata": {},
   "outputs": [
    {
     "name": "stdout",
     "output_type": "stream",
     "text": [
      "Enter a String : ddwda\n",
      "The given string is not a pangram, you are missing the letters:b,c,e,f,g,h,i,j,k,l,m,n,o,p,q,r,s,t,u,v,x,y,z\n"
     ]
    }
   ],
   "source": [
    "characters=[]\n",
    "# function checks if given string has all alphabets\n",
    "def ispangram(str):\n",
    "    alphabet = \"abcdefghijklmnopqrstuvwxyz\"  #initialize the 26 english alphabets in lower case\n",
    "    for char in alphabet: \n",
    "        if char not in str.lower(): # if initialized alphabet is in the string you entered\n",
    "            characters.append(char) # missing characters are listed in a list\n",
    "    if len(characters)==0:         # checks if length of list is zero\n",
    "        print('The given string is a pangram')\n",
    "    else:\n",
    "        print('The given string is not a pangram, you are missing the letters:', end = '') #printing the result\n",
    "        print(\",\".join(characters)) # print the missing characters from the list\n",
    "string1=input('Enter a String : ')\n",
    "a=ispangram(string1) "
   ]
  },
  {
   "cell_type": "markdown",
   "metadata": {},
   "source": [
    "# _Question 5_\n",
    "_(10 points) Write a program to request a file name from the user and calculate the following statistics of the contents of the file:\n",
    "Number of lines\n",
    "Number of words\n",
    "Number of characters\n",
    "Average length of a word\n",
    "In this problem use the following definitions:\n",
    "A line is a sequence of characters that end with a newline (\\n) character A word bounded by one or more spaces (or \\n) on either side of it (or both sides) A character is any single length string, e.g. ‘a’, ‘-‘, etc. but not a space (or white space)_\n",
    "\n",
    "# _STEPS_\n",
    "\n",
    "_1. Copy the file 'Shakespeare.txt' to the location where your python .ibny file is_\n",
    "\n",
    "_2. Enter any filename which doesnt exist , program handles it and rerun the program_\n",
    "\n",
    "_3. I have inclued the encoding as 'latin-1' because of unicode character issue.(Note : it may behave differently in your system)_\n",
    "\n",
    "_4. program calculates the number of lines,word count, character count,and average_\n",
    "\n",
    "_5. Note: Average lentgth of word i rounded it to 1 decimal point(beacause for example we can say The average word length in English language is 4.7 characters(From google))_"
   ]
  },
  {
   "cell_type": "code",
   "execution_count": 15,
   "metadata": {},
   "outputs": [
    {
     "name": "stdout",
     "output_type": "stream",
     "text": [
      "What is the filename:Shakespeare.txt\n",
      "Number of lines: 14\n",
      "Number of words: 103\n",
      "Number of characters: 470\n",
      "Average length of a word: 4.6\n"
     ]
    }
   ],
   "source": [
    "# initialize the variables\n",
    "lineCount=0 \n",
    "wordCount=0\n",
    "characterCount=0\n",
    "fileName=input('What is the filename:')\n",
    "try:\n",
    "    file=open(fileName,encoding='latin-1') # open a entered file\n",
    "    for line in file:\n",
    "        splitwordslist=line.split() # split the line\n",
    "        lineCount=lineCount+1  # count the number of lines\n",
    "        wordCount+=len(splitwordslist) #count number of words\n",
    "        characterCount += sum(len(word) for word in splitwordslist) #count number of characters\n",
    "        average = characterCount/wordCount #calculate the average length of word\n",
    "    #print the results\n",
    "    print('Number of lines:', lineCount)\n",
    "    print('Number of words:', wordCount)\n",
    "    print('Number of characters:' ,characterCount)\n",
    "    print('Average length of a word:', round(average,1))\n",
    "except:\n",
    "    print('File does not exist!!')   "
   ]
  },
  {
   "cell_type": "code",
   "execution_count": null,
   "metadata": {},
   "outputs": [],
   "source": []
  }
 ],
 "metadata": {
  "kernelspec": {
   "display_name": "Python 3",
   "language": "python",
   "name": "python3"
  },
  "language_info": {
   "codemirror_mode": {
    "name": "ipython",
    "version": 3
   },
   "file_extension": ".py",
   "mimetype": "text/x-python",
   "name": "python",
   "nbconvert_exporter": "python",
   "pygments_lexer": "ipython3",
   "version": "3.7.3"
  }
 },
 "nbformat": 4,
 "nbformat_minor": 2
}
